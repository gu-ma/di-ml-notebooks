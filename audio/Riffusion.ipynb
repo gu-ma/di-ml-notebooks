{
 "cells": [
  {
   "cell_type": "markdown",
   "id": "c9be2349-bb2c-412a-a773-7ef1a46ff82d",
   "metadata": {
    "jp-MarkdownHeadingCollapsed": true
   },
   "source": [
    "## General Functions"
   ]
  },
  {
   "cell_type": "code",
   "execution_count": null,
   "id": "8a3505c4-3045-44f2-8318-55349bafafd4",
   "metadata": {},
   "outputs": [],
   "source": [
    "import os\n",
    "import git\n",
    "from pathlib import Path\n",
    "\n",
    "# Home path (only works on Linux)\n",
    "# https://stackoverflow.com/a/58988310\n",
    "home_dir = Path(os.readlink('/proc/%s/cwd' % os.environ['JPY_PARENT_PID']))\n",
    "\n",
    "# Paths\n",
    "riffusion_dir = home_dir / 'riffusion'"
   ]
  },
  {
   "cell_type": "code",
   "execution_count": null,
   "id": "74acfb8f-9793-4ed4-a692-3b9497ecc6de",
   "metadata": {},
   "outputs": [],
   "source": [
    "# Clone a repo\n",
    "def clone_repo(git_url, target_dir):\n",
    "    \n",
    "    # Extract repo name and create path\n",
    "    repo_name = git_url.split('/')[-1]\n",
    "\n",
    "    # Create path\n",
    "    repo_dir = target_dir / repo_name\n",
    "\n",
    "    # Clone if does not exist\n",
    "    if not repo_dir.exists():\n",
    "        git.Repo.clone_from(git_url, repo_dir)\n",
    "    else:\n",
    "        print('Directory exists already, skipping')"
   ]
  },
  {
   "cell_type": "markdown",
   "id": "8b6b790c-bbcb-4405-bf25-332adf0c3627",
   "metadata": {},
   "source": [
    "## Riffusion"
   ]
  },
  {
   "cell_type": "markdown",
   "id": "18209321-08b7-4225-b5bd-ce015eb104c8",
   "metadata": {
    "jp-MarkdownHeadingCollapsed": true
   },
   "source": [
    "### Install repo"
   ]
  },
  {
   "cell_type": "code",
   "execution_count": null,
   "id": "c075f1c2-15e5-4ddc-984a-df361dab3c92",
   "metadata": {},
   "outputs": [],
   "source": [
    "clone_repo('https://github.com/riffusion/riffusion', home_dir)"
   ]
  },
  {
   "cell_type": "markdown",
   "id": "48a3c0da-7fac-49e2-9d77-fc186f3fb887",
   "metadata": {},
   "source": [
    "#### Manually modify the file `riffusion/requirements.txt`\n",
    "Delete those 3 lines\n",
    "```\n",
    "torch\n",
    "torchaudio\n",
    "torchvision\n",
    "```"
   ]
  },
  {
   "cell_type": "markdown",
   "id": "ac6f15b6-02a1-4b6f-921f-f509788e48d0",
   "metadata": {
    "jp-MarkdownHeadingCollapsed": true
   },
   "source": [
    "### Install libraries"
   ]
  },
  {
   "cell_type": "code",
   "execution_count": null,
   "id": "cfb452c9-c575-4ef9-a741-31161cb3256d",
   "metadata": {
    "scrolled": true
   },
   "outputs": [],
   "source": [
    "!python -m pip install -r {riffusion_dir}/requirements.txt"
   ]
  },
  {
   "cell_type": "markdown",
   "id": "5dfd2f43-23c1-4380-8119-d8d6085f57bc",
   "metadata": {},
   "source": [
    "Downgrade diffusers"
   ]
  },
  {
   "cell_type": "code",
   "execution_count": null,
   "id": "7792263c-3dfb-48e4-ad74-4cee5623772c",
   "metadata": {},
   "outputs": [],
   "source": [
    "!pip install diffusers==0.9.0"
   ]
  },
  {
   "cell_type": "markdown",
   "id": "fabc4a51-016b-4181-807e-cf37ea927f20",
   "metadata": {},
   "source": [
    "Install a compatible version of torch + torchaudio"
   ]
  },
  {
   "cell_type": "code",
   "execution_count": null,
   "id": "ba73b3aa-6fd4-4454-9dd3-4725a95fef40",
   "metadata": {
    "scrolled": true
   },
   "outputs": [],
   "source": [
    "!pip install torch==2.0.1 torchvision==0.15.2 torchaudio==2.0.2 --index-url https://download.pytorch.org/whl/cu118"
   ]
  },
  {
   "cell_type": "markdown",
   "id": "92431c63-ae93-4067-b164-8967397e206c",
   "metadata": {},
   "source": [
    "Check if all good"
   ]
  },
  {
   "cell_type": "code",
   "execution_count": null,
   "id": "805e3e3b-0461-4978-92d8-4de6fb00fcd1",
   "metadata": {},
   "outputs": [],
   "source": [
    "import torch\n",
    "torch.cuda.is_available()"
   ]
  },
  {
   "cell_type": "markdown",
   "id": "4eb7675c-5348-4f82-814a-e88449bd16ed",
   "metadata": {
    "jp-MarkdownHeadingCollapsed": true
   },
   "source": [
    "### Run"
   ]
  },
  {
   "cell_type": "code",
   "execution_count": null,
   "id": "9c315293-a9f9-4f2f-ba00-fc24a6e634b0",
   "metadata": {},
   "outputs": [],
   "source": [
    "os.chdir(riffusion_dir)"
   ]
  },
  {
   "cell_type": "code",
   "execution_count": null,
   "id": "d8ac39dc-9698-4de3-911d-30e4875ba9f7",
   "metadata": {},
   "outputs": [],
   "source": [
    "!python -m riffusion.cli -h"
   ]
  },
  {
   "cell_type": "code",
   "execution_count": null,
   "id": "6b34eca2-81ec-4b5a-befe-62ddeafaedf9",
   "metadata": {
    "scrolled": true
   },
   "outputs": [],
   "source": [
    "!python -m riffusion.streamlit.playground"
   ]
  }
 ],
 "metadata": {
  "kernelspec": {
   "display_name": "Python 3 (ipykernel)",
   "language": "python",
   "name": "python3"
  },
  "language_info": {
   "codemirror_mode": {
    "name": "ipython",
    "version": 3
   },
   "file_extension": ".py",
   "mimetype": "text/x-python",
   "name": "python",
   "nbconvert_exporter": "python",
   "pygments_lexer": "ipython3",
   "version": "3.11.5"
  }
 },
 "nbformat": 4,
 "nbformat_minor": 5
}
