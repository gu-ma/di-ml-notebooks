{
 "cells": [
  {
   "cell_type": "markdown",
   "id": "c1aa65fc-c1d6-40c0-84f8-ae5ed87fc36c",
   "metadata": {},
   "source": [
    "### Install requirements, etc..."
   ]
  },
  {
   "cell_type": "code",
   "execution_count": null,
   "id": "3d90ec8b-f24a-4f32-9dce-689120747c55",
   "metadata": {
    "scrolled": true
   },
   "outputs": [],
   "source": [
    "!pip install -r xtts-streaming-server/test/requirements.txt"
   ]
  },
  {
   "cell_type": "markdown",
   "id": "c2e43cd2-3c17-4951-9c40-ed8db5e2519c",
   "metadata": {},
   "source": [
    "### Edit the xtts-streaming-server/demo.py file:\n",
    "* set `share=True`\n",
    "* If you want to use microphone add `source='microphone'` to the gradio audio component:\n",
    "  * `upload_file = gr.Audio(source='microphone', label=\"Upload reference audio\", type=\"filepath\")`"
   ]
  },
  {
   "cell_type": "markdown",
   "id": "16d52ab0-0a35-4aae-9436-5bdd0a2004e0",
   "metadata": {},
   "source": [
    "### Launch demo"
   ]
  },
  {
   "cell_type": "code",
   "execution_count": null,
   "id": "2180f962-62eb-4835-9315-b1840064edf1",
   "metadata": {},
   "outputs": [],
   "source": [
    "!python xtts-streaming-server/demo.py"
   ]
  }
 ],
 "metadata": {
  "kernelspec": {
   "display_name": "Python 3 (ipykernel)",
   "language": "python",
   "name": "python3"
  },
  "language_info": {
   "codemirror_mode": {
    "name": "ipython",
    "version": 3
   },
   "file_extension": ".py",
   "mimetype": "text/x-python",
   "name": "python",
   "nbconvert_exporter": "python",
   "pygments_lexer": "ipython3",
   "version": "3.11.5"
  }
 },
 "nbformat": 4,
 "nbformat_minor": 5
}
