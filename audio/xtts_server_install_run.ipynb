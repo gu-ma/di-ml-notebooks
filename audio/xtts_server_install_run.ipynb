{
 "cells": [
  {
   "cell_type": "markdown",
   "id": "0cee9179-9315-439a-95f7-343a33ae2877",
   "metadata": {},
   "source": [
    "### Install repo + req, etc..."
   ]
  },
  {
   "cell_type": "code",
   "execution_count": null,
   "id": "ff0ffc78-7481-4b58-bff8-b271907c014c",
   "metadata": {},
   "outputs": [],
   "source": [
    "!git clone https://github.com/coqui-ai/xtts-streaming-server.git"
   ]
  },
  {
   "cell_type": "code",
   "execution_count": null,
   "id": "6b5a6aa9-8ac5-4b94-b92b-c322b23d8abf",
   "metadata": {
    "scrolled": true
   },
   "outputs": [],
   "source": [
    "!pip install --use-deprecated=legacy-resolver -r xtts-streaming-server/server/requirements.txt && pip cache purge"
   ]
  },
  {
   "cell_type": "code",
   "execution_count": null,
   "id": "6c36d5d0-fb2b-4e56-9372-f32f8f9c7f8f",
   "metadata": {},
   "outputs": [],
   "source": [
    "!python -m unidic download"
   ]
  },
  {
   "cell_type": "code",
   "execution_count": null,
   "id": "0b9fbd13-7431-4c44-a8b7-2fade0bc70bb",
   "metadata": {},
   "outputs": [],
   "source": [
    "import os\n",
    "os.mkdir('xtts-streaming-server/server/tts_models')"
   ]
  },
  {
   "cell_type": "markdown",
   "id": "f76b1dd4-d090-4986-a546-9d431c5d50c7",
   "metadata": {},
   "source": [
    "### Launch"
   ]
  },
  {
   "cell_type": "code",
   "execution_count": 29,
   "id": "6b53bb94-c0e7-4688-9c9a-be1ad93a879a",
   "metadata": {},
   "outputs": [],
   "source": [
    "# Set env var\n",
    "os.environ['NVIDIA_DISABLE_REQUIRE'] = '0'\n",
    "os.environ['NUM_THREADS'] = '2'\n",
    "os.environ['COQUI_TOS_AGREED'] = '1'"
   ]
  },
  {
   "cell_type": "code",
   "execution_count": null,
   "id": "9895d3b1-f15d-493f-873b-22d0b43a7021",
   "metadata": {},
   "outputs": [],
   "source": [
    "os.chdir('xtts-streaming-server/server/')"
   ]
  },
  {
   "cell_type": "code",
   "execution_count": null,
   "id": "8d3f3171-bf49-418c-bf40-47f5c551b05d",
   "metadata": {
    "scrolled": true
   },
   "outputs": [],
   "source": [
    "!uvicorn main:app --host 0.0.0.0"
   ]
  }
 ],
 "metadata": {
  "kernelspec": {
   "display_name": "Python 3 (ipykernel)",
   "language": "python",
   "name": "python3"
  },
  "language_info": {
   "codemirror_mode": {
    "name": "ipython",
    "version": 3
   },
   "file_extension": ".py",
   "mimetype": "text/x-python",
   "name": "python",
   "nbconvert_exporter": "python",
   "pygments_lexer": "ipython3",
   "version": "3.11.5"
  }
 },
 "nbformat": 4,
 "nbformat_minor": 5
}
