{
 "cells": [
  {
   "cell_type": "markdown",
   "id": "3c0a9be1-7f58-4658-b27d-8dfcb8b4fb12",
   "metadata": {},
   "source": [
    "Follow instructions below ⬇️⬇️⬇️"
   ]
  },
  {
   "cell_type": "markdown",
   "id": "9a525d37-e3bd-4488-9903-0e2ddc104d6e",
   "metadata": {},
   "source": [
    "Make sure you are in the folder where we want to work in, open a new terminal and run:\n",
    "* `git clone https://github.com/gu-ma/Retrieval-based-Voice-Conversion-WebUI.git`\n",
    "* `conda init zsh`\n",
    "* `source /home/jovyan/.zshrc`\n",
    "* `conda create -y -n rvc pip python=3.10`\n",
    "* `conda activate rvc`\n",
    "* `pip install -U torch==2.2.1+cu121 torchvision==0.17.1+cu121 --index-url https://download.pytorch.org/whl/cu121`\n",
    "* `cd Retrieval-based-Voice-Conversion-WebUI`\n",
    "* `pip install -r requirements.txt`\n",
    "* `python tools/download_models.py`\n",
    "* `python infer-web.py`"
   ]
  }
 ],
 "metadata": {
  "kernelspec": {
   "display_name": "Python 3 (ipykernel)",
   "language": "python",
   "name": "python3"
  },
  "language_info": {
   "codemirror_mode": {
    "name": "ipython",
    "version": 3
   },
   "file_extension": ".py",
   "mimetype": "text/x-python",
   "name": "python",
   "nbconvert_exporter": "python",
   "pygments_lexer": "ipython3",
   "version": "3.11.5"
  }
 },
 "nbformat": 4,
 "nbformat_minor": 5
}
