{
 "cells": [
  {
   "cell_type": "markdown",
   "id": "c9be2349-bb2c-412a-a773-7ef1a46ff82d",
   "metadata": {},
   "source": [
    "General Functions"
   ]
  },
  {
   "cell_type": "code",
   "execution_count": 21,
   "id": "8a3505c4-3045-44f2-8318-55349bafafd4",
   "metadata": {},
   "outputs": [],
   "source": [
    "from pathlib import Path\n",
    "import os\n",
    "\n",
    "# Home path (only works on Linux)\n",
    "# https://stackoverflow.com/a/58988310\n",
    "home_dir = Path(os.readlink('/proc/%s/cwd' % os.environ['JPY_PARENT_PID']))\n",
    "\n",
    "# Paths\n",
    "ngrok_dir = home_dir / 'ngrok'"
   ]
  },
  {
   "cell_type": "markdown",
   "id": "e5021421-413a-4f77-9039-b4fac6741798",
   "metadata": {},
   "source": [
    "Steps:\n",
    "\n",
    "1) Create [Ngrok Account](https://ngrok.com/) + [Token](https://dashboard.ngrok.com/tunnels/authtokens) + [Domain](https://dashboard.ngrok.com/cloud-edge/domains)\n",
    "2) Install\n",
    "3) Run"
   ]
  },
  {
   "cell_type": "markdown",
   "id": "4176df21-209c-4fb3-80ac-cc80df7fa801",
   "metadata": {
    "jp-MarkdownHeadingCollapsed": true
   },
   "source": [
    "## Install (run once)"
   ]
  },
  {
   "cell_type": "markdown",
   "id": "15bdb143-a50f-44d2-be1d-2d2fa4e60615",
   "metadata": {},
   "source": [
    "Add your token below ⬇️  \n",
    "⚠️ Do not save this notebook publicly with your token ⚠️ "
   ]
  },
  {
   "cell_type": "code",
   "execution_count": null,
   "id": "22445efa-6047-4827-bb63-bb0f58e4f4dc",
   "metadata": {},
   "outputs": [],
   "source": [
    "authtoken = '<TOKEN>'"
   ]
  },
  {
   "cell_type": "markdown",
   "id": "1209e279-8a3c-4dd6-8e2f-6198ca314813",
   "metadata": {},
   "source": [
    "Dowload and install"
   ]
  },
  {
   "cell_type": "code",
   "execution_count": null,
   "id": "df7d65d8-b180-46cb-82bd-7a5295d9f334",
   "metadata": {},
   "outputs": [],
   "source": [
    "if not ngrok_dir.exists():\n",
    "    os.mkdir(ngrok_dir)"
   ]
  },
  {
   "cell_type": "markdown",
   "id": "e53c44c4-0be4-4c14-99ce-dc7608ef61cf",
   "metadata": {},
   "source": [
    "Check Linux version"
   ]
  },
  {
   "cell_type": "code",
   "execution_count": null,
   "id": "12bd80c9-7abc-4bbd-bd81-cf4e76028ebb",
   "metadata": {},
   "outputs": [],
   "source": [
    "!uname -a"
   ]
  },
  {
   "cell_type": "markdown",
   "id": "52492eb2-dd6e-44df-99f9-e34914077b4f",
   "metadata": {},
   "source": [
    "Get file and install"
   ]
  },
  {
   "cell_type": "code",
   "execution_count": null,
   "id": "1a34cc37-00d0-48c2-84a2-337db7a164ff",
   "metadata": {},
   "outputs": [],
   "source": [
    "!wget --directory-prefix {ngrok_dir} https://bin.equinox.io/c/bNyj1mQVY4c/ngrok-v3-stable-linux-amd64.tgz"
   ]
  },
  {
   "cell_type": "code",
   "execution_count": null,
   "id": "baf875de-d5c1-4a9c-9a39-58fd372f65bc",
   "metadata": {},
   "outputs": [],
   "source": [
    "!tar xf {ngrok_dir}/ngrok-v3-stable-linux-amd64.tgz --directory {ngrok_dir}"
   ]
  },
  {
   "cell_type": "code",
   "execution_count": null,
   "id": "11805e54-4ba9-4100-bb8c-e309c3d3d722",
   "metadata": {},
   "outputs": [],
   "source": [
    "!{ngrok_dir}/ngrok --version"
   ]
  },
  {
   "cell_type": "markdown",
   "id": "271183ff-87d0-48ca-901d-9e955b9a6e85",
   "metadata": {},
   "source": [
    "Add token"
   ]
  },
  {
   "cell_type": "code",
   "execution_count": null,
   "id": "d370ed7f-7524-4cce-8e9d-96294ee28aa5",
   "metadata": {},
   "outputs": [],
   "source": [
    "!{ngrok_dir}/ngrok config add-authtoken {authtoken}"
   ]
  },
  {
   "cell_type": "markdown",
   "id": "8a2c45d0-db79-40fd-a62c-f192ce897737",
   "metadata": {
    "jp-MarkdownHeadingCollapsed": true
   },
   "source": [
    "## 📍 Run"
   ]
  },
  {
   "cell_type": "code",
   "execution_count": null,
   "id": "ed8c564b-b0f4-4c6d-a71d-2b9276512bf5",
   "metadata": {},
   "outputs": [],
   "source": [
    "domain = '' # Leave blank if none\n",
    "port = 8188 # Port of your app"
   ]
  },
  {
   "cell_type": "code",
   "execution_count": null,
   "id": "e9fc99f8-c9c8-4f16-af5c-513958ee190c",
   "metadata": {},
   "outputs": [],
   "source": [
    "!{ngrok_dir}/ngrok http --domain={domain} {port}"
   ]
  }
 ],
 "metadata": {
  "kernelspec": {
   "display_name": "Python 3 (ipykernel)",
   "language": "python",
   "name": "python3"
  },
  "language_info": {
   "codemirror_mode": {
    "name": "ipython",
    "version": 3
   },
   "file_extension": ".py",
   "mimetype": "text/x-python",
   "name": "python",
   "nbconvert_exporter": "python",
   "pygments_lexer": "ipython3",
   "version": "3.11.5"
  }
 },
 "nbformat": 4,
 "nbformat_minor": 5
}
