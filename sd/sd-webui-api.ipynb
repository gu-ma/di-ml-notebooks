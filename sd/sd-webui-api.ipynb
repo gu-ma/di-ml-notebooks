{
 "cells": [
  {
   "cell_type": "markdown",
   "id": "6eb4c819-985d-4cd4-8521-c113d62c7598",
   "metadata": {},
   "source": [
    "Access sd-webui API"
   ]
  },
  {
   "cell_type": "code",
   "execution_count": null,
   "id": "8d382bfe-cb64-4e37-9d13-db480d3768ac",
   "metadata": {
    "scrolled": true
   },
   "outputs": [],
   "source": [
    "import json\n",
    "import requests\n",
    "import io\n",
    "import base64\n",
    "from PIL import Image\n",
    "\n",
    "url = \"https://015df23219d604b8ee.gradio.live\"\n",
    "\n",
    "payload = {\n",
    "    \"prompt\": \"puppy dog\",\n",
    "    \"seed\":-1,\n",
    "    \"steps\": 20,\n",
    "    \"width\": 1024,\n",
    "    \"heigh\": 1024\n",
    "}\n",
    "\n",
    "# Send request\n",
    "response = requests.post(url=f'{url}/sdapi/v1/txt2img', json=payload)\n",
    "\n",
    "# Extract json\n",
    "r = response.json()\n",
    "\n",
    "# Convert image\n",
    "image = Image.open(io.BytesIO(base64.b64decode(r['images'][0])))"
   ]
  },
  {
   "cell_type": "code",
   "execution_count": null,
   "id": "917baf5b-61b2-4ecd-821b-ee92f5d532df",
   "metadata": {},
   "outputs": [],
   "source": [
    "image"
   ]
  },
  {
   "cell_type": "code",
   "execution_count": null,
   "id": "ba2bc4dd-7738-42fb-830a-c61fdea276ce",
   "metadata": {},
   "outputs": [],
   "source": [
    "my_prompts=[\n",
    "  {\n",
    "    \"positive\": \"modern sports car\",\n",
    "    \"negative\": \"rusty\"\n",
    "  },\n",
    "  {\n",
    "    \"positive\": \"retro sports car\",\n",
    "    \"negative\": \"broken\"\n",
    "  }\n",
    "]\n",
    "\n",
    "universal_negative = \"blurry, drawn, painted, unrealistic\"\n",
    "\n",
    "images =[]\n",
    "\n",
    "for prompt in my_prompts:\n",
    "    payload['prompt'] = prompt['positive']\n",
    "    payload['negative_prompt'] = f\"{prompt['negative']}, {universal_negative}\"\n",
    "    response = requests.post(url=f'{url}/sdapi/v1/txt2img', json=payload)\n",
    "    r = response.json()\n",
    "    images.append(Image.open(io.BytesIO(base64.b64decode(r['images'][0]))))"
   ]
  },
  {
   "cell_type": "code",
   "execution_count": null,
   "id": "f3ea9c64-3e1a-443e-9d49-537faca9df27",
   "metadata": {},
   "outputs": [],
   "source": [
    "from IPython.display import display\n",
    "\n",
    "for image in images:\n",
    "    display(image)"
   ]
  }
 ],
 "metadata": {
  "kernelspec": {
   "display_name": "Python 3 (ipykernel)",
   "language": "python",
   "name": "python3"
  },
  "language_info": {
   "codemirror_mode": {
    "name": "ipython",
    "version": 3
   },
   "file_extension": ".py",
   "mimetype": "text/x-python",
   "name": "python",
   "nbconvert_exporter": "python",
   "pygments_lexer": "ipython3",
   "version": "3.11.5"
  }
 },
 "nbformat": 4,
 "nbformat_minor": 5
}
