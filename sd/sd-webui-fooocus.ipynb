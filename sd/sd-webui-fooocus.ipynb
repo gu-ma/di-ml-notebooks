{
 "cells": [
  {
   "cell_type": "markdown",
   "id": "56730971-1dd2-4c4f-9435-1c511e80fa50",
   "metadata": {},
   "source": [
    "⚠️ On HSLU GPUHUB You must use the server template __CVAI admin__ ⚠️"
   ]
  },
  {
   "cell_type": "markdown",
   "id": "3117a0f2-83ec-4bcf-9904-6eb896eef74f",
   "metadata": {},
   "source": [
    "# Setup (run each time)"
   ]
  },
  {
   "cell_type": "markdown",
   "id": "cc449778-50ae-4f4d-a35e-6a09220be332",
   "metadata": {
    "jp-MarkdownHeadingCollapsed": true
   },
   "source": [
    "## Declare var + functions"
   ]
  },
  {
   "cell_type": "code",
   "execution_count": null,
   "id": "45c14b3e-a73d-45d5-aa28-3d652c95b0de",
   "metadata": {},
   "outputs": [],
   "source": [
    "import os\n",
    "import git\n",
    "import shutil\n",
    "import huggingface_hub\n",
    "from pathlib import Path\n",
    "\n",
    "# Home path (only works on Linux)\n",
    "# https://stackoverflow.com/a/58988310 (root path)\n",
    "# home_dir = Path(os.readlink('/proc/%s/cwd' % os.environ['JPY_PARENT_PID']))\n",
    "home_dir = Path(os.getcwd())\n",
    "\n",
    "# Paths\n",
    "sd_dir = home_dir / 'stable-diffusion-webui'\n",
    "sd_model_dir = sd_dir / 'models'\n",
    "sd_extensions_dir = sd_dir / 'extensions'\n",
    "fooocus_dir = home_dir / 'Fooocus'\n",
    "fooocus_api_dir = home_dir / 'Fooocus-API'"
   ]
  },
  {
   "cell_type": "code",
   "execution_count": null,
   "id": "8ae7c407-022a-47a5-84be-88bd59235b7a",
   "metadata": {},
   "outputs": [],
   "source": [
    "# Clone a repo\n",
    "def clone_repo(git_url, target_dir):\n",
    "    \n",
    "    # Extract repo name and create path\n",
    "    repo_name = git_url.split('/')[-1]\n",
    "\n",
    "    # Create path\n",
    "    repo_dir = target_dir / repo_name\n",
    "\n",
    "    # Clone if does not exist\n",
    "    if not repo_dir.exists():\n",
    "        git.Repo.clone_from(git_url, repo_dir)"
   ]
  },
  {
   "cell_type": "markdown",
   "id": "dad0c2ee-ef8e-4bf2-91e0-a6804e74ad68",
   "metadata": {},
   "source": [
    "## Install packages"
   ]
  },
  {
   "cell_type": "markdown",
   "id": "3a9b4506-b307-452e-b7dd-ff05d7aea6fe",
   "metadata": {},
   "source": [
    "Check GPU + Cuda version"
   ]
  },
  {
   "cell_type": "code",
   "execution_count": null,
   "id": "9010dc34-3e8a-4dd5-8c2b-99881bac0230",
   "metadata": {},
   "outputs": [],
   "source": [
    "!nvidia-smi"
   ]
  },
  {
   "cell_type": "markdown",
   "id": "8091090f-1431-4e6b-bb34-069e5992ab43",
   "metadata": {},
   "source": [
    "Upgrade httpx"
   ]
  },
  {
   "cell_type": "code",
   "execution_count": null,
   "id": "eb3c8215-0d28-4ff5-8f44-32b224705153",
   "metadata": {
    "scrolled": true
   },
   "outputs": [],
   "source": [
    "!pip install -U httpx==0.24.1"
   ]
  },
  {
   "cell_type": "markdown",
   "id": "5f079007-7a96-49b4-a591-e0f8693b36ff",
   "metadata": {},
   "source": [
    "Install xformers to speed up inference"
   ]
  },
  {
   "cell_type": "code",
   "execution_count": null,
   "id": "73a3282c-24ac-4871-a3f6-a93fe204a4e3",
   "metadata": {
    "scrolled": true
   },
   "outputs": [],
   "source": [
    "!pip install -U xformers==0.0.25 huggingface-hub==0.22.0"
   ]
  },
  {
   "cell_type": "markdown",
   "id": "1e67be19-0a80-4715-a9af-29da96d79c7e",
   "metadata": {},
   "source": [
    "Upgrade torch, etc..."
   ]
  },
  {
   "cell_type": "code",
   "execution_count": null,
   "id": "b94aa459-2d7f-4944-b055-415fb6a33be4",
   "metadata": {
    "scrolled": true
   },
   "outputs": [],
   "source": [
    "!pip install -U torch==2.2.1+cu121 torchvision==0.17.1+cu121 --index-url https://download.pytorch.org/whl/cu121"
   ]
  },
  {
   "cell_type": "code",
   "execution_count": null,
   "id": "1ece78b1-ad84-416a-a3a8-62a79157e1d2",
   "metadata": {},
   "outputs": [],
   "source": [
    "!pip install torchsde"
   ]
  },
  {
   "cell_type": "markdown",
   "id": "d9d227f0-8109-4abf-bf32-ef4d8623d121",
   "metadata": {},
   "source": [
    "Check if GPU is working"
   ]
  },
  {
   "cell_type": "code",
   "execution_count": null,
   "id": "de6720a9-5924-4d0c-b165-d88147179dd9",
   "metadata": {},
   "outputs": [],
   "source": [
    "import torch\n",
    "torch.cuda.is_available()"
   ]
  },
  {
   "cell_type": "markdown",
   "id": "6a6de2ca-d790-4fb6-b9d0-370d71eb2977",
   "metadata": {},
   "source": [
    "# SD-WEBUI"
   ]
  },
  {
   "cell_type": "markdown",
   "id": "009d984d-c020-4fbd-9536-4d8125c318fd",
   "metadata": {},
   "source": [
    "## Install repo (run once)"
   ]
  },
  {
   "cell_type": "markdown",
   "id": "78676fa7-9767-4d95-8490-24772d53a341",
   "metadata": {},
   "source": [
    "**⚠️** Warning: only run the next cell if you want to delete the existing copy of sd-webui **⚠️**"
   ]
  },
  {
   "cell_type": "code",
   "execution_count": null,
   "id": "c8e39014-541b-49e7-be30-06cf9524b504",
   "metadata": {},
   "outputs": [],
   "source": [
    "answer = input(\"-> Are you sure you want to delete 'stable-diffusion-webui' [y | n]: \")\n",
    "if answer == 'y':\n",
    "    if sd_dir.exists():\n",
    "        shutil.rmtree(sd_dir)\n",
    "        print('Folder deleted')\n",
    "    else:\n",
    "        print('Folder not found')\n",
    "else:\n",
    "    print('Skipping')"
   ]
  },
  {
   "cell_type": "markdown",
   "id": "07495985-08e4-4a9d-add5-58aaab97df93",
   "metadata": {},
   "source": [
    "Clone and cd into repo"
   ]
  },
  {
   "cell_type": "code",
   "execution_count": null,
   "id": "c42bf2a9-790e-45b9-9b0c-59bcd3cc73cb",
   "metadata": {},
   "outputs": [],
   "source": [
    "clone_repo('https://github.com/AUTOMATIC1111/stable-diffusion-webui', home_dir)"
   ]
  },
  {
   "cell_type": "markdown",
   "id": "ba5952d2-3494-4735-a050-e9786c0faf1c",
   "metadata": {},
   "source": [
    "#### 1. Manually modify the file `stable-diffusion/webui.sh`\n",
    "\n",
    "Change `use_venv=1` to `use_venv=0`\n",
    "\n",
    "#### 2. Manually modify the file `stable-diffusion/webui-user.sh`\n",
    "\n",
    "change `#export COMMANDLINE_ARGS=\"\"` to  `export COMMANDLINE_ARGS=\"--xformers --share --api --update-check --update-all-extensions --enable-insecure-extension-access --opt-sdp-attention\"`\n",
    "\n",
    "Dont forget to uncomment the line!! (delete the `#`)  \n",
    "\n",
    "NB: We also need to set `disable_mmap_load_safetensors` in the settings on the GUI"
   ]
  },
  {
   "cell_type": "markdown",
   "id": "3af55ca9-9aa7-41a4-be5d-cbdd82c11217",
   "metadata": {
    "jp-MarkdownHeadingCollapsed": true
   },
   "source": [
    "## Install extensions (run once)"
   ]
  },
  {
   "cell_type": "markdown",
   "id": "d19466d2-4ffa-45a7-bc2d-e11736106c36",
   "metadata": {},
   "source": [
    "You can find extensions via the UI then copy paste their repo here"
   ]
  },
  {
   "cell_type": "code",
   "execution_count": null,
   "id": "b06af14d-ee15-482c-82ba-1c27c42cbb16",
   "metadata": {},
   "outputs": [],
   "source": [
    "# Use urls without the .git\n",
    "git_urls = {\n",
    "    'https://github.com/zanllp/sd-webui-infinite-image-browsing',\n",
    "    'https://github.com/Mikubill/sd-webui-controlnet',\n",
    "    'https://github.com/butaixianran/Stable-Diffusion-Webui-Civitai-Helper'\n",
    "}\n",
    "\n",
    "# Iterate through git repos and clone them\n",
    "for url in git_urls:\n",
    "    clone_repo(url, sd_extensions_dir)"
   ]
  },
  {
   "cell_type": "markdown",
   "id": "9629a71c-dd09-4661-83b8-1ab04281cc0e",
   "metadata": {},
   "source": [
    "## 📍 Run"
   ]
  },
  {
   "cell_type": "markdown",
   "id": "0a5e171d-03b7-4a98-ba5d-085d775b0ad9",
   "metadata": {},
   "source": [
    "You might need to download some models before starting the UI the first time, see section **\"Download additional models\"**"
   ]
  },
  {
   "cell_type": "code",
   "execution_count": null,
   "id": "89641969-69a7-4742-8590-291efb2086e9",
   "metadata": {},
   "outputs": [],
   "source": [
    "!cd {sd_dir} && ./webui.sh"
   ]
  },
  {
   "cell_type": "markdown",
   "id": "a6881fc7-384c-4167-8ddf-9abd92c7213a",
   "metadata": {},
   "source": [
    "# FOOOCUS"
   ]
  },
  {
   "cell_type": "markdown",
   "id": "d28c68bc-78c5-4d00-a420-02c1becdcef8",
   "metadata": {
    "jp-MarkdownHeadingCollapsed": true
   },
   "source": [
    "## Install repo (run once)"
   ]
  },
  {
   "cell_type": "markdown",
   "id": "e0a8d420-c60d-4a61-9b4a-113eacff7c60",
   "metadata": {},
   "source": [
    "**⚠️** Warning: only run the next cell if you want to delete the existing copy of Fooocus **⚠️**"
   ]
  },
  {
   "cell_type": "code",
   "execution_count": null,
   "id": "f4d66d00-d659-412f-b15b-15f35022df9c",
   "metadata": {},
   "outputs": [],
   "source": [
    "answer = input(\"-> Are you sure you want to delete 'Fooocus' [y | n]: \")\n",
    "if answer == 'y':\n",
    "    if fooocus_dir.exists():\n",
    "        shutil.rmtree(fooocus_dir)\n",
    "        print('Folder deleted')\n",
    "    else:\n",
    "        print('Folder not found')\n",
    "else:\n",
    "    print('Skipping')"
   ]
  },
  {
   "cell_type": "markdown",
   "id": "523beb6c-cb13-42dc-bbbc-492bc42069a7",
   "metadata": {},
   "source": [
    "Clone repo"
   ]
  },
  {
   "cell_type": "code",
   "execution_count": null,
   "id": "3cfcf1e0-811d-4829-b712-e9197d574b11",
   "metadata": {},
   "outputs": [],
   "source": [
    "clone_repo('https://github.com/lllyasviel/Fooocus', home_dir)"
   ]
  },
  {
   "cell_type": "markdown",
   "id": "8395363f-4cde-4b1f-9891-d7d8d986dfaa",
   "metadata": {},
   "source": [
    "Start Fooocus once to initialize all files, generate a few image and stop the execution of the cell."
   ]
  },
  {
   "cell_type": "code",
   "execution_count": null,
   "id": "523dbb1d-4121-401f-aeed-09163568e906",
   "metadata": {
    "scrolled": true
   },
   "outputs": [],
   "source": [
    "!python {fooocus_dir}/entry_with_update.py --share"
   ]
  },
  {
   "cell_type": "code",
   "execution_count": null,
   "id": "e7b45255",
   "metadata": {},
   "outputs": [],
   "source": [
    "str(home_dir)"
   ]
  },
  {
   "cell_type": "markdown",
   "id": "c535d730-edd7-4d98-97a5-63a2a7e1a6d4",
   "metadata": {},
   "source": [
    "#### Manually modify the file `Fooocus/config.txt`\n",
    "\n",
    "Assuming the `home_dir` displayed above ⬆️ is `/home/jovyan` (it might be different than `/home/jovyan`) change:\n",
    "\n",
    "```\n",
    "    \"path_checkpoints\": [\n",
    "        \"/home/jovyan/Fooocus/models/checkpoints\"\n",
    "    ],\n",
    "    \"path_loras\": [\n",
    "        \"/home/jovyan/Fooocus/models/loras\"\n",
    "    ],\n",
    "```\n",
    "to \n",
    "```\n",
    "    \"path_checkpoints\": [\n",
    "        \"/home/jovyan/stable-diffusion-webui/models/Stable-diffusion\"\n",
    "    ],\n",
    "    \"path_loras\": [\n",
    "        \"/home/jovyan/stable-diffusion-webui/models/Lora\"\n",
    "    ],\n",
    "```\n",
    "\n",
    "Mode details here: https://github.com/lllyasviel/Fooocus?tab=readme-ov-file#customization"
   ]
  },
  {
   "cell_type": "markdown",
   "id": "4fc8d124-7b02-4001-82db-d226de240e4b",
   "metadata": {},
   "source": [
    "## 📍 Run"
   ]
  },
  {
   "cell_type": "code",
   "execution_count": null,
   "id": "41d824df-9237-4df2-b8d7-8d49ae7e6bd6",
   "metadata": {},
   "outputs": [],
   "source": [
    "!python {fooocus_dir}/entry_with_update.py --share --always-download-new-model --disable-offload-from-vram --always-high-vram --attention-pytorch"
   ]
  },
  {
   "cell_type": "markdown",
   "id": "4e695604-8d9b-4dac-82ec-c1d9f4d2aa61",
   "metadata": {},
   "source": [
    "# Download additional models (run once)"
   ]
  },
  {
   "cell_type": "markdown",
   "id": "88d6faa0-77c7-41dd-95da-f49579dbcf73",
   "metadata": {},
   "source": [
    "Both sd-webui and Fooocus should download a default model the first time you start them but you will need to download some additional models for ControlNet"
   ]
  },
  {
   "cell_type": "code",
   "execution_count": null,
   "id": "05eb4405-c5bc-45cf-8f2f-f529c18170c1",
   "metadata": {
    "scrolled": true
   },
   "outputs": [],
   "source": [
    "# ControlNet (There's a LOT here, hopefully we have enough disk space 🤞)\n",
    "local_dir = sd_model_dir / 'ControlNet'\n",
    "\n",
    "# ControlNet 1.1 \n",
    "huggingface_hub.snapshot_download(\n",
    "    repo_id='lllyasviel/ControlNet-v1-1',\n",
    "    allow_patterns='*.pth',\n",
    "    local_dir=local_dir\n",
    ")\n",
    "# ControlNet XL\n",
    "huggingface_hub.snapshot_download(\n",
    "    repo_id='lllyasviel/sd_control_collection',\n",
    "    local_dir=local_dir\n",
    ")"
   ]
  },
  {
   "cell_type": "markdown",
   "id": "444ab754-5212-41a0-a528-090d652d6331",
   "metadata": {},
   "source": [
    "We also download the default sd1.5 and xl models in case they are not there"
   ]
  },
  {
   "cell_type": "code",
   "execution_count": null,
   "id": "7f7def97-b92c-40e6-8f81-54f2dc040419",
   "metadata": {},
   "outputs": [],
   "source": [
    "# SD models\n",
    "local_dir = sd_model_dir / 'Stable-diffusion'\n",
    "\n",
    "# SD 1.5\n",
    "repo_id='runwayml/stable-diffusion-v1-5'\n",
    "filename = 'v1-5-pruned-emaonly.safetensors'\n",
    "huggingface_hub.hf_hub_download(\n",
    "    repo_id=repo_id,\n",
    "    filename=filename,\n",
    "    local_dir=local_dir\n",
    ")\n",
    "\n",
    "# SDXL\n",
    "repo_id='stabilityai/stable-diffusion-xl-base-1.0'\n",
    "# Base model\n",
    "filename = 'sd_xl_base_1.0.safetensors'\n",
    "huggingface_hub.hf_hub_download(\n",
    "    repo_id=repo_id,\n",
    "    filename=filename,\n",
    "    local_dir=local_dir\n",
    ")\n",
    "# VAE\n",
    "filename = 'sd_xl_base_1.0_0.9vae.safetensors'\n",
    "huggingface_hub.hf_hub_download(\n",
    "    repo_id=repo_id,\n",
    "    filename=filename,\n",
    "    local_dir=local_dir\n",
    ")"
   ]
  },
  {
   "cell_type": "markdown",
   "id": "a8d733f1-50d5-490f-ae43-cecce1dc052f",
   "metadata": {},
   "source": [
    "A nice / fun SD model (1.5)"
   ]
  },
  {
   "cell_type": "code",
   "execution_count": null,
   "id": "0c209595-0ef0-49de-8771-bf188324f5f8",
   "metadata": {},
   "outputs": [],
   "source": [
    "# SD models\n",
    "local_dir = sd_model_dir / 'Stable-diffusion'\n",
    "\n",
    "# https://civitai.com/models/7371/rev-animated\n",
    "repo_id='s6yx/ReV_Animated'\n",
    "filename = 'rev_1.2.2.safetensors'\n",
    "subfolder = 'rev_1.2.2'\n",
    "\n",
    "huggingface_hub.hf_hub_download(\n",
    "    repo_id=repo_id,\n",
    "    filename=filename,\n",
    "    subfolder=subfolder,\n",
    "    local_dir=local_dir\n",
    ")"
   ]
  },
  {
   "cell_type": "markdown",
   "id": "40d51782-596b-40ea-9c4d-486a57c70ebc",
   "metadata": {},
   "source": [
    "We move it to the root of the sd models dir. We don't really have to but it's \"cleaner\" this way"
   ]
  },
  {
   "cell_type": "code",
   "execution_count": null,
   "id": "f8903c9e-ade5-4c3f-9025-b59418481d5f",
   "metadata": {},
   "outputs": [],
   "source": [
    "!mv {local_dir}/{subfolder}/{filename} {local_dir}"
   ]
  },
  {
   "cell_type": "markdown",
   "id": "411cd5bf-d815-429e-903e-d59612f2f435",
   "metadata": {},
   "source": [
    "\"Manual\" download of turbovisionxl and Realities edge (2 versions)"
   ]
  },
  {
   "cell_type": "code",
   "execution_count": null,
   "id": "da8cf2fa-6c2f-49b2-9937-72e82146c3c0",
   "metadata": {},
   "outputs": [],
   "source": [
    "!curl --progress-bar https://drive.switch.ch/index.php/s/dL2tJjvuO9rgH95/download -o {sd_model_dir}/Stable-diffusion/turbovisionxlSuperFastXLBasedOnNew_alphaV0101Bakedvae.safetensors"
   ]
  },
  {
   "cell_type": "code",
   "execution_count": null,
   "id": "e0d0b445-1f35-4aa0-9ef3-61fe864725c2",
   "metadata": {},
   "outputs": [],
   "source": [
    "!curl --progress-bar https://drive.switch.ch/index.php/s/6yBKEF33YIL8m4q/download -o {sd_model_dir}/Stable-diffusion/Realities_Edge_XL_Lightning_Turbo_V7.safetensors"
   ]
  },
  {
   "cell_type": "markdown",
   "id": "70f0799e-0414-411c-8619-5979ddabdd3c",
   "metadata": {},
   "source": [
    "A couple of autoencoders used for SD"
   ]
  },
  {
   "cell_type": "code",
   "execution_count": null,
   "id": "88a5382e-66e1-46a3-a225-d2b3ded6be5e",
   "metadata": {},
   "outputs": [],
   "source": [
    "# SD models\n",
    "local_dir = sd_model_dir / 'VAE'\n",
    "\n",
    "# SD VAE\n",
    "repo_id='stabilityai/sd-vae-ft-mse-original'\n",
    "filename = 'vae-ft-mse-840000-ema-pruned.safetensors'\n",
    "huggingface_hub.hf_hub_download(\n",
    "    repo_id=repo_id,\n",
    "    filename=filename,\n",
    "    local_dir=local_dir\n",
    ")\n",
    "\n",
    "# SD XL VAE\n",
    "repo_id='madebyollin/sdxl-vae-fp16-fix'\n",
    "filename = 'sdxl.vae.safetensors'\n",
    "huggingface_hub.hf_hub_download(\n",
    "    repo_id=repo_id,\n",
    "    filename=filename,\n",
    "    local_dir=local_dir\n",
    ")"
   ]
  }
 ],
 "metadata": {
  "kernelspec": {
   "display_name": "Python 3 (ipykernel)",
   "language": "python",
   "name": "python3"
  },
  "language_info": {
   "codemirror_mode": {
    "name": "ipython",
    "version": 3
   },
   "file_extension": ".py",
   "mimetype": "text/x-python",
   "name": "python",
   "nbconvert_exporter": "python",
   "pygments_lexer": "ipython3",
   "version": "3.11.5"
  }
 },
 "nbformat": 4,
 "nbformat_minor": 5
}
